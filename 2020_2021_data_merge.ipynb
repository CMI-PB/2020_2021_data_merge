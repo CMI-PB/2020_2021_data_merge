{
  "nbformat": 4,
  "nbformat_minor": 0,
  "metadata": {
    "colab": {
      "name": "2020_2021_data_merge.ipynb",
      "provenance": [],
      "authorship_tag": "ABX9TyPPPpSiO09waCPoSnh8AaA5",
      "include_colab_link": true
    },
    "kernelspec": {
      "name": "python3",
      "display_name": "Python 3"
    },
    "language_info": {
      "name": "python"
    }
  },
  "cells": [
    {
      "cell_type": "markdown",
      "metadata": {
        "id": "view-in-github",
        "colab_type": "text"
      },
      "source": [
        "<a href=\"https://colab.research.google.com/github/CMI-PB/2020_2021_data_merge/blob/main/2020_2021_data_merge.ipynb\" target=\"_parent\"><img src=\"https://colab.research.google.com/assets/colab-badge.svg\" alt=\"Open In Colab\"/></a>"
      ]
    },
    {
      "cell_type": "markdown",
      "source": [
        "#### Setting up gdrive access to store code and data\n",
        "##### Eventually these files will be moved to GitHub repo"
      ],
      "metadata": {
        "id": "bk5E_ARU40t8"
      }
    },
    {
      "cell_type": "code",
      "execution_count": null,
      "metadata": {
        "colab": {
          "base_uri": "https://localhost:8080/"
        },
        "id": "xiZBLzTH-0g1",
        "outputId": "04dc86f7-88b8-4efa-f5a3-47ea577f40b1"
      },
      "outputs": [
        {
          "output_type": "stream",
          "name": "stdout",
          "text": [
            "Drive already mounted at /content/drive; to attempt to forcibly remount, call drive.mount(\"/content/drive\", force_remount=True).\n"
          ]
        }
      ],
      "source": [
        "from google.colab import drive\n",
        "drive.mount('/content/drive')\n",
        "\n",
        "data_dir = '/content/drive/Shareddrives/CMI-PB/github/2020_2021_data_merge/data/2020_2021_datasets'"
      ]
    },
    {
      "cell_type": "markdown",
      "source": [
        "### Load data here"
      ],
      "metadata": {
        "id": "PUuMvSmyvOem"
      }
    },
    {
      "cell_type": "code",
      "source": [
        ""
      ],
      "metadata": {
        "colab": {
          "base_uri": "https://localhost:8080/",
          "height": 35
        },
        "id": "nEfdw6bliV2p",
        "outputId": "8d5f737e-6aa4-4643-e41c-cc34d04593a3"
      },
      "execution_count": null,
      "outputs": [
        {
          "output_type": "execute_result",
          "data": {
            "text/plain": [
              "'/content/drive/Shareddrives/CMI-PB/github/2020_2021_data_merge/data/2020_2021_datasets'"
            ],
            "application/vnd.google.colaboratory.intrinsic+json": {
              "type": "string"
            }
          },
          "metadata": {},
          "execution_count": 18
        }
      ]
    },
    {
      "cell_type": "markdown",
      "source": [
        ""
      ],
      "metadata": {
        "id": "LiG6KVEGlBAZ"
      }
    }
  ]
}