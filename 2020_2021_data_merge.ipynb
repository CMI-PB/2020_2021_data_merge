{
  "nbformat": 4,
  "nbformat_minor": 0,
  "metadata": {
    "colab": {
      "name": "2020_2021_data_merge.ipynb",
      "provenance": [],
      "authorship_tag": "ABX9TyOWFi9FkfqWTrsd6tH+UT75",
      "include_colab_link": true
    },
    "kernelspec": {
      "name": "python3",
      "display_name": "Python 3"
    },
    "language_info": {
      "name": "python"
    }
  },
  "cells": [
    {
      "cell_type": "markdown",
      "metadata": {
        "id": "view-in-github",
        "colab_type": "text"
      },
      "source": [
        "<a href=\"https://colab.research.google.com/github/CMI-PB/2020_2021_data_merge/blob/main/2020_2021_data_merge.ipynb\" target=\"_parent\"><img src=\"https://colab.research.google.com/assets/colab-badge.svg\" alt=\"Open In Colab\"/></a>"
      ]
    },
    {
      "cell_type": "code",
      "execution_count": 1,
      "metadata": {
        "colab": {
          "base_uri": "https://localhost:8080/"
        },
        "id": "xiZBLzTH-0g1",
        "outputId": "08a385f3-8146-42d3-c0ee-69a65a9a5280"
      },
      "outputs": [
        {
          "output_type": "stream",
          "name": "stdout",
          "text": [
            "ls: cannot access '/content/drive/My Drive/data': No such file or directory\n"
          ]
        }
      ],
      "source": [
        "!ls '/content/drive/My Drive/data'"
      ]
    }
  ]
}